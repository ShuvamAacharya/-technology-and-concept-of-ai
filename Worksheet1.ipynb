{
  "nbformat": 4,
  "nbformat_minor": 0,
  "metadata": {
    "colab": {
      "provenance": []
    },
    "kernelspec": {
      "name": "python3",
      "display_name": "Python 3"
    },
    "language_info": {
      "name": "python"
    }
  },
  "cells": [
    {
      "cell_type": "markdown",
      "source": [
        "**Part** **1**"
      ],
      "metadata": {
        "id": "uG2WK8HXhIaq"
      }
    },
    {
      "cell_type": "code",
      "execution_count": 32,
      "metadata": {
        "colab": {
          "base_uri": "https://localhost:8080/"
        },
        "id": "cHrzmH897tgZ",
        "outputId": "d50e3d87-d136-4cf8-f614-345eb5eb2fc9"
      },
      "outputs": [
        {
          "output_type": "stream",
          "name": "stdout",
          "text": [
            "[[0 0]\n",
            " [0 0]]\n"
          ]
        }
      ],
      "source": [
        "# 1st question\n",
        "import numpy as np\n",
        "arr= np.random.randint(0,1,(2,2))\n",
        "print(arr)"
      ]
    },
    {
      "cell_type": "code",
      "source": [
        "# 2nd question\n",
        "import random\n",
        "arr= np.random.randint(1,2,(4,2))\n",
        "print(arr)"
      ],
      "metadata": {
        "colab": {
          "base_uri": "https://localhost:8080/"
        },
        "id": "hjty8fvwgyo5",
        "outputId": "d3beeed0-699c-41ca-e159-bbd5897da3ad"
      },
      "execution_count": 34,
      "outputs": [
        {
          "output_type": "stream",
          "name": "stdout",
          "text": [
            "[[1 1]\n",
            " [1 1]\n",
            " [1 1]\n",
            " [1 1]]\n"
          ]
        }
      ]
    },
    {
      "cell_type": "code",
      "source": [
        "# 3rd ,4th and 5th question\n",
        "filled_array = np.full((3, 3),fill_value= 7)\n",
        "print(filled_array)\n",
        "ones_like = np.ones_like(filled_array)\n",
        "print(ones_like)"
      ],
      "metadata": {
        "colab": {
          "base_uri": "https://localhost:8080/"
        },
        "id": "TdNZRXoWg6s5",
        "outputId": "07508dc3-459a-4e82-e312-4974e73026d9"
      },
      "execution_count": 35,
      "outputs": [
        {
          "output_type": "stream",
          "name": "stdout",
          "text": [
            "[[7 7 7]\n",
            " [7 7 7]\n",
            " [7 7 7]]\n",
            "[[1 1 1]\n",
            " [1 1 1]\n",
            " [1 1 1]]\n"
          ]
        }
      ]
    },
    {
      "cell_type": "code",
      "source": [
        "# 6th ques\n",
        "new_list = [1,2,3,4]\n",
        "new_array = np.array(new_list)\n",
        "print(new_array)"
      ],
      "metadata": {
        "colab": {
          "base_uri": "https://localhost:8080/"
        },
        "id": "1dbeI_bNg_j-",
        "outputId": "ba3d7dfe-8970-490d-bd89-53d0e48b0c1b"
      },
      "execution_count": 36,
      "outputs": [
        {
          "output_type": "stream",
          "name": "stdout",
          "text": [
            "[1 2 3 4]\n"
          ]
        }
      ]
    },
    {
      "cell_type": "markdown",
      "source": [
        "**Part 2**"
      ],
      "metadata": {
        "id": "mlB0lVTJhZXb"
      }
    },
    {
      "cell_type": "code",
      "source": [
        "# Ques 1\n",
        "import numpy as np\n",
        "array_10_to_49 = np.arange(10, 50)\n",
        "print(array_10_to_49)"
      ],
      "metadata": {
        "colab": {
          "base_uri": "https://localhost:8080/"
        },
        "id": "Jvhu-DLHhcwH",
        "outputId": "78567cb1-51fd-4322-f2ab-8a2e8081128c"
      },
      "execution_count": 37,
      "outputs": [
        {
          "output_type": "stream",
          "name": "stdout",
          "text": [
            "[10 11 12 13 14 15 16 17 18 19 20 21 22 23 24 25 26 27 28 29 30 31 32 33\n",
            " 34 35 36 37 38 39 40 41 42 43 44 45 46 47 48 49]\n"
          ]
        }
      ]
    },
    {
      "cell_type": "code",
      "source": [
        "# Ques 2\n",
        "import numpy as np\n",
        "array_0_8= np.reshape((np.arange(0,9)),(3,3))\n",
        "print(array_0_8)"
      ],
      "metadata": {
        "colab": {
          "base_uri": "https://localhost:8080/"
        },
        "id": "PBJ7c84WhiHh",
        "outputId": "886c34ec-dc81-436a-9cf0-bcb54f9d0ef8"
      },
      "execution_count": 38,
      "outputs": [
        {
          "output_type": "stream",
          "name": "stdout",
          "text": [
            "[[0 1 2]\n",
            " [3 4 5]\n",
            " [6 7 8]]\n"
          ]
        }
      ]
    },
    {
      "cell_type": "code",
      "source": [
        "# Ques 3\n",
        "import numpy as np\n",
        "id_matrix = np.eye(3)\n",
        "print(id_matrix)"
      ],
      "metadata": {
        "colab": {
          "base_uri": "https://localhost:8080/"
        },
        "id": "LsRut2mUhlQA",
        "outputId": "760460af-fa93-421b-fe38-7e54411325aa"
      },
      "execution_count": 39,
      "outputs": [
        {
          "output_type": "stream",
          "name": "stdout",
          "text": [
            "[[1. 0. 0.]\n",
            " [0. 1. 0.]\n",
            " [0. 0. 1.]]\n"
          ]
        }
      ]
    },
    {
      "cell_type": "code",
      "source": [
        "# Ques 4\n",
        "import numpy as np\n",
        "random_array = np.random.rand(30)\n",
        "mean_arr = random_array.mean()\n",
        "print(mean_arr)"
      ],
      "metadata": {
        "colab": {
          "base_uri": "https://localhost:8080/"
        },
        "id": "Nv9lJCw_hm_Z",
        "outputId": "1b58138d-c6f8-464c-db71-eff5643034bb"
      },
      "execution_count": 40,
      "outputs": [
        {
          "output_type": "stream",
          "name": "stdout",
          "text": [
            "0.4101329440308926\n"
          ]
        }
      ]
    },
    {
      "cell_type": "code",
      "source": [
        "# Ques 5\n",
        "import numpy as np\n",
        "array = np.random.randint(1,100,size=(10,10))\n",
        "min_val = array.min()\n",
        "max_val = array.max()\n",
        "print(\"The random elements array is: \",array)\n",
        "print(\"The min value of the matrix is:\",min_val)\n",
        "print(\"The max value of the matrix is:\",max_val)"
      ],
      "metadata": {
        "colab": {
          "base_uri": "https://localhost:8080/"
        },
        "id": "QPX7cCdIhrr3",
        "outputId": "3bc409a2-922c-4f4c-d170-fc896db91af8"
      },
      "execution_count": 41,
      "outputs": [
        {
          "output_type": "stream",
          "name": "stdout",
          "text": [
            "The random elements array is:  [[87 53 11 22 38 17 52 86 94 45]\n",
            " [27 30 40 26 79 47 11 97 70 31]\n",
            " [27 92 17  9 13 14 21 90 79 42]\n",
            " [87 49 86 10 54 47  3 15 88 19]\n",
            " [52 17 55 12  9 40 49 78 46 40]\n",
            " [54 45 14 71 75 70 93 93 63 23]\n",
            " [75 25 37 11  4 92 77 23 76 15]\n",
            " [94 70 35 71 14 88 21 18  5 18]\n",
            " [45 90 20  2 63  5 92 35 16 73]\n",
            " [55 47  6 13 70  5 43 40 71 86]]\n",
            "The min value of the matrix is: 2\n",
            "The max value of the matrix is: 97\n"
          ]
        }
      ]
    },
    {
      "cell_type": "code",
      "source": [
        "# Ques 6\n",
        "import numpy as np\n",
        "array = np.zeros((10,10))\n",
        "print(array)\n",
        "array[0][4]= 1\n",
        "print(array)"
      ],
      "metadata": {
        "colab": {
          "base_uri": "https://localhost:8080/"
        },
        "id": "1IQpJX2jhuRC",
        "outputId": "7438825b-cc8d-4abb-e3fe-a65cadd02bc6"
      },
      "execution_count": 42,
      "outputs": [
        {
          "output_type": "stream",
          "name": "stdout",
          "text": [
            "[[0. 0. 0. 0. 0. 0. 0. 0. 0. 0.]\n",
            " [0. 0. 0. 0. 0. 0. 0. 0. 0. 0.]\n",
            " [0. 0. 0. 0. 0. 0. 0. 0. 0. 0.]\n",
            " [0. 0. 0. 0. 0. 0. 0. 0. 0. 0.]\n",
            " [0. 0. 0. 0. 0. 0. 0. 0. 0. 0.]\n",
            " [0. 0. 0. 0. 0. 0. 0. 0. 0. 0.]\n",
            " [0. 0. 0. 0. 0. 0. 0. 0. 0. 0.]\n",
            " [0. 0. 0. 0. 0. 0. 0. 0. 0. 0.]\n",
            " [0. 0. 0. 0. 0. 0. 0. 0. 0. 0.]\n",
            " [0. 0. 0. 0. 0. 0. 0. 0. 0. 0.]]\n",
            "[[0. 0. 0. 0. 1. 0. 0. 0. 0. 0.]\n",
            " [0. 0. 0. 0. 0. 0. 0. 0. 0. 0.]\n",
            " [0. 0. 0. 0. 0. 0. 0. 0. 0. 0.]\n",
            " [0. 0. 0. 0. 0. 0. 0. 0. 0. 0.]\n",
            " [0. 0. 0. 0. 0. 0. 0. 0. 0. 0.]\n",
            " [0. 0. 0. 0. 0. 0. 0. 0. 0. 0.]\n",
            " [0. 0. 0. 0. 0. 0. 0. 0. 0. 0.]\n",
            " [0. 0. 0. 0. 0. 0. 0. 0. 0. 0.]\n",
            " [0. 0. 0. 0. 0. 0. 0. 0. 0. 0.]\n",
            " [0. 0. 0. 0. 0. 0. 0. 0. 0. 0.]]\n"
          ]
        }
      ]
    },
    {
      "cell_type": "code",
      "source": [
        "# Ques 7\n",
        "import numpy as np\n",
        "array = [1,2,0,0,4,0]\n",
        "array.reverse()\n",
        "# array.sort()\n",
        "print(array)\n"
      ],
      "metadata": {
        "colab": {
          "base_uri": "https://localhost:8080/"
        },
        "id": "rEDZu_sbhybX",
        "outputId": "34c6c8fd-6b49-454e-d623-8c475d16b6f7"
      },
      "execution_count": 43,
      "outputs": [
        {
          "output_type": "stream",
          "name": "stdout",
          "text": [
            "[0, 4, 0, 0, 2, 1]\n"
          ]
        }
      ]
    },
    {
      "cell_type": "code",
      "source": [
        "# Ques 8\n",
        "import numpy as np\n",
        "array = np.array([[1,2,3],[4,5,6],[7,8,9]])\n",
        "array[0,:]=1\n",
        "array[-1,:] =1\n",
        "array[:,0]=1\n",
        "array[:,-1]=1\n",
        "print(array)\n"
      ],
      "metadata": {
        "colab": {
          "base_uri": "https://localhost:8080/"
        },
        "id": "7Uw7WE3Zh1KB",
        "outputId": "4ed6d9be-5906-4983-d1b8-6d540d2a9875"
      },
      "execution_count": 44,
      "outputs": [
        {
          "output_type": "stream",
          "name": "stdout",
          "text": [
            "[[1 1 1]\n",
            " [1 5 1]\n",
            " [1 1 1]]\n"
          ]
        }
      ]
    },
    {
      "cell_type": "code",
      "source": [
        "# Ques 9\n",
        "import numpy as np\n",
        "check = np.random.randint(0,1,(8,8))\n",
        "check[1::2, ::2] = 1\n",
        "check[::2, 1::2] = 1\n",
        "print(check)"
      ],
      "metadata": {
        "colab": {
          "base_uri": "https://localhost:8080/"
        },
        "id": "rAgb6IMth4tl",
        "outputId": "61ff58a3-4882-4c24-bf93-21fe72d0d807"
      },
      "execution_count": 45,
      "outputs": [
        {
          "output_type": "stream",
          "name": "stdout",
          "text": [
            "[[0 1 0 1 0 1 0 1]\n",
            " [1 0 1 0 1 0 1 0]\n",
            " [0 1 0 1 0 1 0 1]\n",
            " [1 0 1 0 1 0 1 0]\n",
            " [0 1 0 1 0 1 0 1]\n",
            " [1 0 1 0 1 0 1 0]\n",
            " [0 1 0 1 0 1 0 1]\n",
            " [1 0 1 0 1 0 1 0]]\n"
          ]
        }
      ]
    },
    {
      "cell_type": "markdown",
      "source": [
        "**Part 3**"
      ],
      "metadata": {
        "id": "XakaXw5ch8WB"
      }
    },
    {
      "cell_type": "code",
      "source": [
        "# Ques 1\n",
        "import numpy as np\n",
        "x = np.array([[1,2],\n",
        "              [3,5]])\n",
        "y = np.array([[5,6]\n",
        "            , [7,8]])\n",
        "result1 = x+y\n",
        "result2 = np.add(x,y)\n",
        "print(result1)\n",
        "print(result2)\n",
        "\n",
        "v = np.array([9,10])\n",
        "w = np.array([11,12])\n",
        "result1 = np.add(v,w)\n",
        "print(result1)"
      ],
      "metadata": {
        "colab": {
          "base_uri": "https://localhost:8080/"
        },
        "id": "mwApdqTBh_ND",
        "outputId": "1ec228cb-71d1-434d-b8f6-9ca33d93c0da"
      },
      "execution_count": 46,
      "outputs": [
        {
          "output_type": "stream",
          "name": "stdout",
          "text": [
            "[[ 6  8]\n",
            " [10 13]]\n",
            "[[ 6  8]\n",
            " [10 13]]\n",
            "[20 22]\n"
          ]
        }
      ]
    },
    {
      "cell_type": "code",
      "source": [
        "# Ques 2\n",
        "import numpy as np\n",
        "x = np.array([[1,2],\n",
        "              [3,5]])\n",
        "y = np.array([[5,6]\n",
        "            , [7,8]])\n",
        "result = np.subtract(x,y)\n",
        "print(result)\n",
        "\n",
        "v = np.array([9,10])\n",
        "w = np.array([11,12])\n",
        "result = np.subtract(v,w)\n",
        "print(result)"
      ],
      "metadata": {
        "colab": {
          "base_uri": "https://localhost:8080/"
        },
        "id": "RUeSN7XoiEx1",
        "outputId": "1c9cb97b-cfbd-4237-a89f-9d8800c661f4"
      },
      "execution_count": 47,
      "outputs": [
        {
          "output_type": "stream",
          "name": "stdout",
          "text": [
            "[[-4 -4]\n",
            " [-4 -3]]\n",
            "[-2 -2]\n"
          ]
        }
      ]
    },
    {
      "cell_type": "code",
      "source": [
        "# Ques 3\n",
        "import numpy as np\n",
        "v = np.array([9,10])\n",
        "w = np.array([11,12])\n",
        "x = np.array([[1,2],\n",
        "              [3,5]])\n",
        "y = np.array([[5,6]\n",
        "            , [7,8]])\n",
        "\n",
        "res1 = v*2\n",
        "res2= w*3\n",
        "res3 = x*4\n",
        "res4=y*5\n",
        "\n",
        "print(res1)\n",
        "print(res2)\n",
        "print(res3)\n",
        "print(res4)"
      ],
      "metadata": {
        "colab": {
          "base_uri": "https://localhost:8080/"
        },
        "id": "mUCxU875iHhx",
        "outputId": "468a93ef-cad3-4170-9d93-b8817df8a421"
      },
      "execution_count": 48,
      "outputs": [
        {
          "output_type": "stream",
          "name": "stdout",
          "text": [
            "[18 20]\n",
            "[33 36]\n",
            "[[ 4  8]\n",
            " [12 20]]\n",
            "[[25 30]\n",
            " [35 40]]\n"
          ]
        }
      ]
    },
    {
      "cell_type": "code",
      "source": [
        "# Ques 4\n",
        "import numpy as np\n",
        "v = np.array([9,10])\n",
        "w = np.array([11,12])\n",
        "x = np.array([[1,2],\n",
        "              [3,5]])\n",
        "y = np.array([[5,6]\n",
        "            , [7,8]])\n",
        "\n",
        "square1 = np.square(v)\n",
        "square2 = np.square(w)\n",
        "square3 = np.square(x)\n",
        "square4 = np.square(y)\n",
        "print(square1,\"\\n\", square2,\"\\n\", square3,\"\\n\", square4)"
      ],
      "metadata": {
        "colab": {
          "base_uri": "https://localhost:8080/"
        },
        "id": "3VuBVw8BiKNn",
        "outputId": "bc731247-d010-4c7d-9568-9cbc28f504f6"
      },
      "execution_count": 49,
      "outputs": [
        {
          "output_type": "stream",
          "name": "stdout",
          "text": [
            "[ 81 100] \n",
            " [121 144] \n",
            " [[ 1  4]\n",
            " [ 9 25]] \n",
            " [[25 36]\n",
            " [49 64]]\n"
          ]
        }
      ]
    },
    {
      "cell_type": "code",
      "source": [
        "# Ques 5\n",
        "import numpy as np\n",
        "v = np.array([9,10])\n",
        "w = np.array([11,12])\n",
        "x = np.array([[1,2],\n",
        "              [3,5]])\n",
        "y = np.array([[5,6]\n",
        "            , [7,8]])\n",
        "\n",
        "result1 = np.dot(v,w)\n",
        "result2 = np.dot(x,v)\n",
        "result3 =np.dot(x,y)\n",
        "\n",
        "print(result1)\n",
        "print(result2)\n",
        "print(result3)"
      ],
      "metadata": {
        "colab": {
          "base_uri": "https://localhost:8080/"
        },
        "id": "lY-CucmCiQCB",
        "outputId": "70b070df-a883-405d-8f3f-aa0b9c811765"
      },
      "execution_count": 50,
      "outputs": [
        {
          "output_type": "stream",
          "name": "stdout",
          "text": [
            "219\n",
            "[29 77]\n",
            "[[19 22]\n",
            " [50 58]]\n"
          ]
        }
      ]
    },
    {
      "cell_type": "code",
      "source": [
        "# Ques 6\n",
        "import numpy as np\n",
        "v = np.array([9,10])\n",
        "w = np.array([11,12])\n",
        "x = np.array([[1,2],\n",
        "              [3,5]])\n",
        "y = np.array([[5,6]\n",
        "            , [7,8]])\n",
        "result1 = np.concatenate((v,w))\n",
        "result2 = np.concatenate((x,y),axis = 1)\n",
        "print(result1)\n",
        "print(result2)\n",
        "result3 = np.concatenate((x,v))\n",
        "print(result3)\n",
        "# dimensional error"
      ],
      "metadata": {
        "colab": {
          "base_uri": "https://localhost:8080/",
          "height": 263
        },
        "id": "EL4FDW-6iSzR",
        "outputId": "5f4cffb6-a80f-4f37-bc2e-d7f9b90505a3"
      },
      "execution_count": 51,
      "outputs": [
        {
          "output_type": "stream",
          "name": "stdout",
          "text": [
            "[ 9 10 11 12]\n",
            "[[1 2 5 6]\n",
            " [3 5 7 8]]\n"
          ]
        },
        {
          "output_type": "error",
          "ename": "ValueError",
          "evalue": "all the input arrays must have same number of dimensions, but the array at index 0 has 2 dimension(s) and the array at index 1 has 1 dimension(s)",
          "traceback": [
            "\u001b[0;31m---------------------------------------------------------------------------\u001b[0m",
            "\u001b[0;31mValueError\u001b[0m                                Traceback (most recent call last)",
            "\u001b[0;32m<ipython-input-51-d8f0ababb30b>\u001b[0m in \u001b[0;36m<cell line: 13>\u001b[0;34m()\u001b[0m\n\u001b[1;32m     11\u001b[0m \u001b[0mprint\u001b[0m\u001b[0;34m(\u001b[0m\u001b[0mresult1\u001b[0m\u001b[0;34m)\u001b[0m\u001b[0;34m\u001b[0m\u001b[0;34m\u001b[0m\u001b[0m\n\u001b[1;32m     12\u001b[0m \u001b[0mprint\u001b[0m\u001b[0;34m(\u001b[0m\u001b[0mresult2\u001b[0m\u001b[0;34m)\u001b[0m\u001b[0;34m\u001b[0m\u001b[0;34m\u001b[0m\u001b[0m\n\u001b[0;32m---> 13\u001b[0;31m \u001b[0mresult3\u001b[0m \u001b[0;34m=\u001b[0m \u001b[0mnp\u001b[0m\u001b[0;34m.\u001b[0m\u001b[0mconcatenate\u001b[0m\u001b[0;34m(\u001b[0m\u001b[0;34m(\u001b[0m\u001b[0mx\u001b[0m\u001b[0;34m,\u001b[0m\u001b[0mv\u001b[0m\u001b[0;34m)\u001b[0m\u001b[0;34m)\u001b[0m\u001b[0;34m\u001b[0m\u001b[0;34m\u001b[0m\u001b[0m\n\u001b[0m\u001b[1;32m     14\u001b[0m \u001b[0mprint\u001b[0m\u001b[0;34m(\u001b[0m\u001b[0mresult3\u001b[0m\u001b[0;34m)\u001b[0m\u001b[0;34m\u001b[0m\u001b[0;34m\u001b[0m\u001b[0m\n\u001b[1;32m     15\u001b[0m \u001b[0;31m# dimensional error\u001b[0m\u001b[0;34m\u001b[0m\u001b[0;34m\u001b[0m\u001b[0m\n",
            "\u001b[0;31mValueError\u001b[0m: all the input arrays must have same number of dimensions, but the array at index 0 has 2 dimension(s) and the array at index 1 has 1 dimension(s)"
          ]
        }
      ]
    },
    {
      "cell_type": "code",
      "source": [
        "# Ques 7\n",
        "import numpy as np\n",
        "v = np.array([9,10])\n",
        "w = np.array([11,12])\n",
        "x = np.array([[1,2],\n",
        "              [3,5]])\n",
        "y = np.array([[5,6]\n",
        "            , [7,8]])\n",
        "result3 = np.concatenate((x,v))\n",
        "print(result3)\n",
        "# dimensional error"
      ],
      "metadata": {
        "colab": {
          "base_uri": "https://localhost:8080/",
          "height": 211
        },
        "id": "auo1uNQ5ibZf",
        "outputId": "a327f2f9-9698-4711-9546-ab2e90ab2402"
      },
      "execution_count": 52,
      "outputs": [
        {
          "output_type": "error",
          "ename": "ValueError",
          "evalue": "all the input arrays must have same number of dimensions, but the array at index 0 has 2 dimension(s) and the array at index 1 has 1 dimension(s)",
          "traceback": [
            "\u001b[0;31m---------------------------------------------------------------------------\u001b[0m",
            "\u001b[0;31mValueError\u001b[0m                                Traceback (most recent call last)",
            "\u001b[0;32m<ipython-input-52-73a13373eee9>\u001b[0m in \u001b[0;36m<cell line: 9>\u001b[0;34m()\u001b[0m\n\u001b[1;32m      7\u001b[0m y = np.array([[5,6]\n\u001b[1;32m      8\u001b[0m             , [7,8]])\n\u001b[0;32m----> 9\u001b[0;31m \u001b[0mresult3\u001b[0m \u001b[0;34m=\u001b[0m \u001b[0mnp\u001b[0m\u001b[0;34m.\u001b[0m\u001b[0mconcatenate\u001b[0m\u001b[0;34m(\u001b[0m\u001b[0;34m(\u001b[0m\u001b[0mx\u001b[0m\u001b[0;34m,\u001b[0m\u001b[0mv\u001b[0m\u001b[0;34m)\u001b[0m\u001b[0;34m)\u001b[0m\u001b[0;34m\u001b[0m\u001b[0;34m\u001b[0m\u001b[0m\n\u001b[0m\u001b[1;32m     10\u001b[0m \u001b[0mprint\u001b[0m\u001b[0;34m(\u001b[0m\u001b[0mresult3\u001b[0m\u001b[0;34m)\u001b[0m\u001b[0;34m\u001b[0m\u001b[0;34m\u001b[0m\u001b[0m\n\u001b[1;32m     11\u001b[0m \u001b[0;31m# dimensional error\u001b[0m\u001b[0;34m\u001b[0m\u001b[0;34m\u001b[0m\u001b[0m\n",
            "\u001b[0;31mValueError\u001b[0m: all the input arrays must have same number of dimensions, but the array at index 0 has 2 dimension(s) and the array at index 1 has 1 dimension(s)"
          ]
        }
      ]
    },
    {
      "cell_type": "markdown",
      "source": [
        "**Part 4**"
      ],
      "metadata": {
        "id": "AIqdCsKSivHv"
      }
    },
    {
      "cell_type": "code",
      "source": [
        "# Question 1\n",
        "# Part 1\n",
        "import numpy as np\n",
        "A = np.array([[3,4],[7,8]])\n",
        "B = np.array([[5,3],[2,1]])\n",
        "A_inv=np.linalg.inv(A)\n",
        "result = np.dot(A_inv,A)\n",
        "result = np.round(result, decimals=10)\n",
        "I = np.eye(2,2)\n",
        "# print(I)\n",
        "if np.allclose(result,I) :\n",
        "    print(\"Equal\")\n",
        "else:\n",
        "    print(\"Not equal\")"
      ],
      "metadata": {
        "colab": {
          "base_uri": "https://localhost:8080/"
        },
        "id": "pzXiu7Dxi12H",
        "outputId": "49dd5539-2401-4b4f-f83e-614bc6026fb5"
      },
      "execution_count": 53,
      "outputs": [
        {
          "output_type": "stream",
          "name": "stdout",
          "text": [
            "Equal\n"
          ]
        }
      ]
    },
    {
      "cell_type": "code",
      "source": [
        "#part  2\n",
        "import numpy as np\n",
        "A = np.array([[3,4],[7,8]])\n",
        "B = np.array([[5,3],[2,1]])\n",
        "res1 = np.matmul(A,B)\n",
        "res2 = np.matmul(B,A)\n",
        "if np.allclose(res1,res2):\n",
        "    print(\"Equal\")\n",
        "else:\n",
        "    print(\"Not equal\")"
      ],
      "metadata": {
        "colab": {
          "base_uri": "https://localhost:8080/"
        },
        "id": "dKa9iA_ui5jB",
        "outputId": "10c7611e-c654-4a87-aa21-13c7a210b69b"
      },
      "execution_count": 54,
      "outputs": [
        {
          "output_type": "stream",
          "name": "stdout",
          "text": [
            "Not equal\n"
          ]
        }
      ]
    },
    {
      "cell_type": "code",
      "source": [
        "#Part 3\n",
        "import numpy as np\n",
        "A = np.array([[3,4],[7,8]])\n",
        "B = np.array([[5,3],[2,1]])\n",
        "res1 = np.matmul(A,B)\n",
        "transpAB = np.transpose(res1)\n",
        "transpA = np.transpose(A)\n",
        "transpB = np.transpose(B)\n",
        "res2 = np.matmul(transpB,transpA)\n",
        "if np.allclose(transpAB,res2):\n",
        "        print(\"Equal\")\n",
        "else:\n",
        "        print(\"Not equal\")"
      ],
      "metadata": {
        "colab": {
          "base_uri": "https://localhost:8080/"
        },
        "id": "qQUC5pBwjFU0",
        "outputId": "6b798507-1fb4-4b93-8ae4-62bb5d639c64"
      },
      "execution_count": 55,
      "outputs": [
        {
          "output_type": "stream",
          "name": "stdout",
          "text": [
            "Equal\n"
          ]
        }
      ]
    },
    {
      "cell_type": "code",
      "source": [
        "# Ques 2 and 3\n",
        "import numpy as np\n",
        "A= ([[2,-3,1],\n",
        "    [1,-1,2],\n",
        "    [3,1,-1]])\n",
        "\n",
        "B= ([-1],\n",
        "    [-3],\n",
        "    [9])\n",
        "\n",
        "A_inv = np.linalg.inv(A)\n",
        "res = np.dot(A_inv,B)\n",
        "print(res)"
      ],
      "metadata": {
        "colab": {
          "base_uri": "https://localhost:8080/"
        },
        "id": "-eSOz9pzjJXs",
        "outputId": "1b324df4-252a-4855-86a1-52cc07a5a610"
      },
      "execution_count": 57,
      "outputs": [
        {
          "output_type": "stream",
          "name": "stdout",
          "text": [
            "[[ 2.]\n",
            " [ 1.]\n",
            " [-2.]]\n"
          ]
        }
      ]
    }
  ]
}